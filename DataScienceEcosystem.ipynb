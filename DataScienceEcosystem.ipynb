{
 "cells": [
  {
   "cell_type": "markdown",
   "id": "329b2466-59ac-4e1d-925f-3581194e5eb3",
   "metadata": {},
   "source": [
    "Exercise 2: Create markdown cell with the title of the notebook. Create a markdown cell with the title Data Science Tools and Ecosystem using H1 style heading.\n",
    "# Data Science Tools and Ecosystem"
   ]
  },
  {
   "cell_type": "markdown",
   "id": "92fc5f1e-80c9-487a-b22c-5df49e7a585b",
   "metadata": {},
   "source": [
    "Exercise 3 - Create a markdown cell for an introduction\n",
    "\r\n",
    "Write an introductory sentence about the notebook such as the follow\n",
    "\n",
    "\n",
    "Introduction : s:In this notebook, Data Science Tools and Ecosystem are summarized."
   ]
  },
  {
   "cell_type": "markdown",
   "id": "7834eaeb-2f77-452c-a1a0-0bd88aaa7ea4",
   "metadata": {},
   "source": [
    "Exercise 10:  Insert a markdown cell to list Objectives.\n",
    "Below the introduction cell created in Exercise 3, insert a new markdown cell to list the objectives that this notebook covered (i.e. some of the key takeaways from the course). \n",
    "\n",
    "**Objectives:**\n",
    "\n",
    "-\r\n",
    "Create a Jupyter Notebo\n",
    "- Insert code and markdown cells\n",
    "- Share your notebook through GitHubGitHub"
   ]
  },
  {
   "cell_type": "markdown",
   "id": "709db676-8748-4d13-ba4f-8a345fa465ee",
   "metadata": {},
   "source": [
    "Exercise 4 - Create a markdown cell to list data science languages. \r\n",
    "Start the cell with an overvieline.\n",
    "Some e of the popular languages that Data Scientists use are:\n",
    "* Python\n",
    "* Java\n",
    "* C++\n",
    "* C"
   ]
  },
  {
   "cell_type": "markdown",
   "id": "52132d3c-e90c-427f-bfc5-48940f27e4e4",
   "metadata": {},
   "source": [
    "Exercise 5 - Create a markdown cell to list data science libraries. Add an overview line to the cell like:\n",
    "Some of the commonly used libraries used by Data Scientists include:\n",
    "+ Pandas\n",
    "+ Nympy\n",
    "+ Matplotlib\n",
    "+ ggplot in R"
   ]
  },
  {
   "cell_type": "markdown",
   "id": "4d85bdfb-ed92-47b5-94f8-d195f3ce1f06",
   "metadata": {},
   "source": [
    "Exercise 6 - Create a markdown cell with a table of Data Science tools. \n",
    "Create a single column table in this cell with the first row containing the header Data Science Tools. The subsequent three rows in the table should indicate three development environment open source tools used in data science\n",
    "\n",
    "|Data Science Tools|\n",
    "--------------------\n",
    "|Jupyter Notebook|\n",
    "|Rstudio|\n",
    "|Apache Spark|"
   ]
  },
  {
   "cell_type": "markdown",
   "id": "31b7e81d-7372-4724-9a42-2dd905b38231",
   "metadata": {},
   "source": [
    "Exercise 7 - Create a markdown cell introducing arithmetic expression examples\n",
    "Add a line in this cell with H3 style heading with text like:\n",
    "### Below are a few examples of evaluating arithmetic expressions in Python\n",
    "- Addition (+) # Example : 2+2= 4\n",
    "- Subtraction (-) # Example : 2-2= 0 \n",
    "- Multiplication (*) #Example : 2 * 2= 4\n",
    "- Division (/) # Example : 2/2= 1\n"
   ]
  },
  {
   "cell_type": "markdown",
   "id": "1c68ff51-5596-4901-9b39-d7cc3ad9f8f2",
   "metadata": {},
   "source": [
    "Exercise 8 - Create a code cell to multiply and add numbers. In this code cell evaluate the expression (3*4)+5\n"
   ]
  },
  {
   "cell_type": "code",
   "execution_count": 65,
   "id": "5ce01533-c8ae-44cd-8394-bf4ffff50d25",
   "metadata": {},
   "outputs": [
    {
     "data": {
      "text/plain": [
       "17"
      ]
     },
     "execution_count": 65,
     "metadata": {},
     "output_type": "execute_result"
    }
   ],
   "source": [
    "#This a simple arithmetic expression to mutiply then add integers \n",
    "(3*4)+5 "
   ]
  },
  {
   "cell_type": "markdown",
   "id": "936ea150-df61-463d-8d46-a6dd066b9dde",
   "metadata": {},
   "source": [
    "Exercise 9 - Create a code cell to convert minutes to hours. In this code cell write an expression that converts 200 minutes into hours.\n",
    "Insert a comment line before the expression to explain the operation."
   ]
  },
  {
   "cell_type": "code",
   "execution_count": 68,
   "id": "d6a479c9-953d-4ca8-be88-795d91e9a1bd",
   "metadata": {},
   "outputs": [
    {
     "data": {
      "text/plain": [
       "3.3333333333333335"
      ]
     },
     "execution_count": 68,
     "metadata": {},
     "output_type": "execute_result"
    }
   ],
   "source": [
    "#This will convert 200 minutes to hours by diving by 60\n",
    "200/60"
   ]
  },
  {
   "cell_type": "code",
   "execution_count": null,
   "id": "608e6e58-cadd-40d0-a427-2d3084fdedc4",
   "metadata": {},
   "outputs": [],
   "source": []
  },
  {
   "cell_type": "markdown",
   "id": "f180ba76-6c7f-4e12-8dae-06e62ec9e3ab",
   "metadata": {},
   "source": [
    "Exercise 11 - Create a markdown cell to indicate the Author's name\n",
    "\n",
    "## Author\n",
    "## Hamady SISSOKO"
   ]
  },
  {
   "cell_type": "code",
   "execution_count": null,
   "id": "ccbfe686-dc94-428d-9440-1e94fc1cbf20",
   "metadata": {},
   "outputs": [],
   "source": [
    "Exercise 12 - Share your notebook through GitHub\n",
    "Upload your notebook to a public respository on GitHub."
   ]
  },
  {
   "cell_type": "code",
   "execution_count": null,
   "id": "940372f6-6ca3-414b-ae9b-f71a435840bd",
   "metadata": {},
   "outputs": [],
   "source": []
  },
  {
   "cell_type": "code",
   "execution_count": null,
   "id": "26a1b3a9-b613-4485-92d0-41a8b7dd57c7",
   "metadata": {},
   "outputs": [],
   "source": []
  },
  {
   "cell_type": "code",
   "execution_count": null,
   "id": "0c256e18-7a57-43b7-ae6f-3f254b7b9e8b",
   "metadata": {},
   "outputs": [],
   "source": []
  }
 ],
 "metadata": {
  "kernelspec": {
   "display_name": "Python 3 (ipykernel)",
   "language": "python",
   "name": "python3"
  },
  "language_info": {
   "codemirror_mode": {
    "name": "ipython",
    "version": 3
   },
   "file_extension": ".py",
   "mimetype": "text/x-python",
   "name": "python",
   "nbconvert_exporter": "python",
   "pygments_lexer": "ipython3",
   "version": "3.11.5"
  }
 },
 "nbformat": 4,
 "nbformat_minor": 5
}
